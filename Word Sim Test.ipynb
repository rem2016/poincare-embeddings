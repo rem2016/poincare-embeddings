{
 "cells": [
  {
   "cell_type": "code",
   "execution_count": 4,
   "metadata": {
    "ExecuteTime": {
     "end_time": "2018-05-04T08:31:09.899026Z",
     "start_time": "2018-05-04T08:31:09.896520Z"
    }
   },
   "outputs": [],
   "source": [
    "from word_vec_loader import WordVectorLoader\n",
    "import data\n",
    "import numpy as np"
   ]
  },
  {
   "cell_type": "code",
   "execution_count": 2,
   "metadata": {
    "ExecuteTime": {
     "end_time": "2018-05-04T08:29:58.395589Z",
     "start_time": "2018-05-04T08:29:24.497575Z"
    }
   },
   "outputs": [
    {
     "name": "stdout",
     "output_type": "stream",
     "text": [
      "Loading wordnet words\n",
      "Total 40831 words are added\n",
      "slurp: objects=82115, edges=801571, words=40831\n"
     ]
    }
   ],
   "source": [
    "data_path = './wordnet/noun_closure.tsv'\n",
    "idx, objs, dwords = data.slurp(data_path, load_word=True, build_word_vector=True)\n",
    "total_num = len(objs) + len(dwords)\n"
   ]
  },
  {
   "cell_type": "code",
   "execution_count": 5,
   "metadata": {
    "ExecuteTime": {
     "end_time": "2018-05-04T08:33:04.592708Z",
     "start_time": "2018-05-04T08:33:04.589722Z"
    }
   },
   "outputs": [],
   "source": [
    "import random"
   ]
  },
  {
   "cell_type": "code",
   "execution_count": 6,
   "metadata": {
    "ExecuteTime": {
     "end_time": "2018-05-04T08:33:08.197304Z",
     "start_time": "2018-05-04T08:33:08.169229Z"
    }
   },
   "outputs": [],
   "source": [
    "random.randint?"
   ]
  },
  {
   "cell_type": "code",
   "execution_count": 15,
   "metadata": {
    "ExecuteTime": {
     "end_time": "2018-05-04T08:48:45.116627Z",
     "start_time": "2018-05-04T08:48:28.857092Z"
    }
   },
   "outputs": [
    {
     "name": "stdout",
     "output_type": "stream",
     "text": [
      "100000\n",
      "200000\n",
      "300000\n",
      "400000\n",
      "500000\n",
      "600000\n",
      "700000\n",
      "800000\n",
      "900000\n",
      "1000000\n"
     ]
    }
   ],
   "source": [
    "import random\n",
    "dist = []\n",
    "mean_this_to_other = []\n",
    "count = 1000000\n",
    "def norm(v):\n",
    "    return np.sqrt(np.sum(v**2) ) \n",
    "\n",
    "def calc_dist(a, b):\n",
    "    return np.sum(a * b) / (norm(a ) * norm(b))\n",
    "\n",
    "vec = WordVectorLoader.word_vec\n",
    "for i in range(len(WordVectorLoader.word_vec)):\n",
    "    this_dist = []\n",
    "    for _ in range(1000):\n",
    "        b = random.randint(0, len(WordVectorLoader.word_vec) - 1)\n",
    "        if b == i:\n",
    "            continue\n",
    "        v = calc_dist(vec[i], vec[b])\n",
    "        dist.append(v)\n",
    "        this_dist.append(v)\n",
    "        if len(dist) % 100000 == 0:\n",
    "            print(len(dist))\n",
    "    mean_this_to_other.append(np.mean(this_dist))\n",
    "    if len(dist) >= count:\n",
    "        break\n"
   ]
  },
  {
   "cell_type": "code",
   "execution_count": 25,
   "metadata": {
    "ExecuteTime": {
     "end_time": "2018-05-04T08:51:45.357103Z",
     "start_time": "2018-05-04T08:51:45.354094Z"
    }
   },
   "outputs": [
    {
     "data": {
      "text/plain": [
       "27174.8801443"
      ]
     },
     "execution_count": 25,
     "metadata": {},
     "output_type": "execute_result"
    }
   ],
   "source": [
    "16.3 / 1000000 * len(vec) ** 2"
   ]
  },
  {
   "cell_type": "code",
   "execution_count": 9,
   "metadata": {
    "ExecuteTime": {
     "end_time": "2018-05-04T08:45:45.176574Z",
     "start_time": "2018-05-04T08:45:42.330098Z"
    }
   },
   "outputs": [],
   "source": [
    "import seaborn as sns\n",
    "\n",
    "%matplotlib inline"
   ]
  },
  {
   "cell_type": "code",
   "execution_count": 16,
   "metadata": {
    "ExecuteTime": {
     "end_time": "2018-05-04T08:48:50.223887Z",
     "start_time": "2018-05-04T08:48:50.089666Z"
    }
   },
   "outputs": [
    {
     "data": {
      "text/plain": [
       "<matplotlib.axes._subplots.AxesSubplot at 0x1aef79b8da0>"
      ]
     },
     "execution_count": 16,
     "metadata": {},
     "output_type": "execute_result"
    },
    {
     "data": {
      "image/png": "[encoded data removed]",
      "text/plain": [
       "<matplotlib.figure.Figure at 0x1aef7a121d0>"
      ]
     },
     "metadata": {},
     "output_type": "display_data"
    }
   ],
   "source": [
    "sns.distplot(mean_this_to_other)"
   ]
  },
  {
   "cell_type": "code",
   "execution_count": 20,
   "metadata": {
    "ExecuteTime": {
     "end_time": "2018-05-04T08:49:41.214772Z",
     "start_time": "2018-05-04T08:49:41.157639Z"
    }
   },
   "outputs": [],
   "source": [
    "dist = np.array(dist)"
   ]
  },
  {
   "cell_type": "code",
   "execution_count": 26,
   "metadata": {
    "ExecuteTime": {
     "end_time": "2018-05-04T08:55:35.601008Z",
     "start_time": "2018-05-04T08:55:35.134288Z"
    }
   },
   "outputs": [
    {
     "data": {
      "text/plain": [
       "<matplotlib.axes._subplots.AxesSubplot at 0x1aef79a6f60>"
      ]
     },
     "execution_count": 26,
     "metadata": {},
     "output_type": "execute_result"
    },
    {
     "data": {
      "image/png": "[encoded data removed]",
      "text/plain": [
       "<matplotlib.figure.Figure at 0x1ae8204bac8>"
      ]
     },
     "metadata": {},
     "output_type": "display_data"
    }
   ],
   "source": [
    "sns.distplot(dist)"
   ]
  },
  {
   "cell_type": "code",
   "execution_count": 24,
   "metadata": {
    "ExecuteTime": {
     "end_time": "2018-05-04T08:50:49.477091Z",
     "start_time": "2018-05-04T08:50:49.474083Z"
    }
   },
   "outputs": [
    {
     "data": {
      "text/plain": [
       "0.8335852805"
      ]
     },
     "execution_count": 24,
     "metadata": {},
     "output_type": "execute_result"
    }
   ],
   "source": [
    "len(vec) * len(vec) / 2e9"
   ]
  },
  {
   "cell_type": "code",
   "execution_count": 51,
   "metadata": {
    "ExecuteTime": {
     "end_time": "2018-05-04T10:28:06.982442Z",
     "start_time": "2018-05-04T10:28:06.977457Z"
    }
   },
   "outputs": [
    {
     "data": {
      "text/plain": [
       "0.007688496027876792"
      ]
     },
     "execution_count": 51,
     "metadata": {},
     "output_type": "execute_result"
    }
   ],
   "source": [
    "np.mean(dist > 0.4)"
   ]
  },
  {
   "cell_type": "code",
   "execution_count": 43,
   "metadata": {
    "ExecuteTime": {
     "end_time": "2018-05-04T10:15:34.655733Z",
     "start_time": "2018-05-04T10:15:34.648712Z"
    }
   },
   "outputs": [
    {
     "data": {
      "text/plain": [
       "[2]"
      ]
     },
     "execution_count": 43,
     "metadata": {},
     "output_type": "execute_result"
    }
   ],
   "source": [
    "import random\n",
    "random.sample([1,2,3], 1)"
   ]
  }
 ],
 "metadata": {
  "kernelspec": {
   "display_name": "Python 3",
   "language": "python",
   "name": "python3"
  },
  "language_info": {
   "codemirror_mode": {
    "name": "ipython",
    "version": 3
   },
   "file_extension": ".py",
   "mimetype": "text/x-python",
   "name": "python",
   "nbconvert_exporter": "python",
   "pygments_lexer": "ipython3",
   "version": "3.6.4"
  },
  "varInspector": {
   "cols": {
    "lenName": 16,
    "lenType": 16,
    "lenVar": 40
   },
   "kernels_config": {
    "python": {
     "delete_cmd_postfix": "",
     "delete_cmd_prefix": "del ",
     "library": "var_list.py",
     "varRefreshCmd": "print(var_dic_list())"
    },
    "r": {
     "delete_cmd_postfix": ") ",
     "delete_cmd_prefix": "rm(",
     "library": "var_list.r",
     "varRefreshCmd": "cat(var_dic_list()) "
    }
   },
   "types_to_exclude": [
    "module",
    "function",
    "builtin_function_or_method",
    "instance",
    "_Feature"
   ],
   "window_display": false
  }
 },
 "nbformat": 4,
 "nbformat_minor": 2
}
