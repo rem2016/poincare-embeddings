{
 "cells": [
  {
   "cell_type": "markdown",
   "metadata": {},
   "source": [
    "This experiment is aimed at confirm the hypothesis that \n",
    "we can achieve high scores in all human sim dataset.\n",
    "\n",
    "noun_ng, noun_sim, noun_ws353 and so on\n",
    "\n",
    "To make sure the design of "
   ]
  },
  {
   "cell_type": "code",
   "execution_count": 23,
   "metadata": {},
   "outputs": [],
   "source": [
    "import numpy as np\n",
    "from sklearn.linear_model import LinearRegression\n",
    "import spacy\n",
    "from sematch.evaluation import WordSimDataset\n",
    "import torch\n",
    "from embed import ranking, get_adjacency_by_idx, eval_human\n",
    "from nltk.corpus import wordnet\n",
    "import eval_scws\n",
    "from model import PoincareDistance\n",
    "import time\n",
    "import torch as th\n",
    "from data import slurp\n",
    "import os\n",
    "from IPython.display import display\n",
    "from model import SNEmbedding\n",
    "import evaluation\n",
    "import json\n",
    "import re\n",
    "import pickle\n",
    "from collections import defaultdict\n",
    "import pandas as pd\n",
    "import matplotlib.pyplot as plt\n",
    "from collections import defaultdict\n",
    "import seaborn as sns\n",
    "\n",
    "word_sim_data = WordSimDataset()\n",
    "refer_pairs, refer_human_ground_truth = word_sim_data.load_dataset('noun_rg')\n",
    "refer_pairs = list(refer_pairs)\n",
    "datasets = ['noun_rg', 'noun_mc', 'noun_ws353', 'noun_ws353-sim', 'noun_simlex']\n",
    "ground_truth_pairs = [word_sim_data.load_dataset(dataset) for dataset in datasets]\n",
    "ground_truth_pairs = [(list(p), s) for p, s in ground_truth_pairs]\n",
    "\n"
   ]
  },
  {
   "cell_type": "code",
   "execution_count": 39,
   "metadata": {},
   "outputs": [
    {
     "name": "stdout",
     "output_type": "stream",
     "text": [
      "1310 / 1310\n",
      "So there are lots of conflicts in the dataset\n",
      "The size of all conflict pairs = 534\n"
     ]
    }
   ],
   "source": [
    "ans = defaultdict(lambda: {})\n",
    "conflicts = defaultdict(lambda: defaultdict(lambda: []))\n",
    "n_conflicts = 0\n",
    "n_all = 0\n",
    "for pairs, s in ground_truth_pairs:\n",
    "    for (a, b), sim in zip(pairs, s):\n",
    "        conflicts[b][a].append(sim)\n",
    "        conflicts[a][b].append(sim)\n",
    "        n_conflicts += 1\n",
    "        n_all += 1\n",
    "            \n",
    "print(n_conflicts, '/',n_all)\n",
    "print(\"So there are lots of conflicts in the dataset\")\n",
    "print(f'The size of all conflict pairs = {len(conflicts) // 2}')\n"
   ]
  },
  {
   "cell_type": "code",
   "execution_count": 37,
   "metadata": {},
   "outputs": [
    {
     "name": "stdout",
     "output_type": "stream",
     "text": [
      "0.8150662786741674\n"
     ]
    }
   ],
   "source": [
    "ga = []\n",
    "gb = []\n",
    "for a, items in conflicts.items():\n",
    "    for b, sim in items.items():\n",
    "        scores = sim + [ans[a][b]]\n",
    "        ga.append(min(scores))\n",
    "        gb.append(max(scores))\n",
    "print(np.corrcoef(ga, gb)[0, 1])"
   ]
  },
  {
   "cell_type": "code",
   "execution_count": 44,
   "metadata": {},
   "outputs": [
    {
     "name": "stdout",
     "output_type": "stream",
     "text": [
      "noun_rg 0.7677787216587257\n",
      "noun_mc 0.9499313508769889\n",
      "noun_ws353 0.8572644516070094\n",
      "noun_ws353-sim 0.834030842374988\n",
      "noun_simlex 0.9856734576207407\n"
     ]
    }
   ],
   "source": [
    "for name, (pairs, human_sims) in zip(datasets, ground_truth_pairs):\n",
    "    pred = []\n",
    "    for (a, b), sim in zip(pairs, human_sims):\n",
    "        scores = conflicts[a][b]\n",
    "        if max(scores) - sim > sim - min(scores):\n",
    "            pred.append(max(scores))\n",
    "        else:\n",
    "            pred.append(min(scores))\n",
    "    print(name, np.corrcoef(pred, human_sims)[0, 1])"
   ]
  },
  {
   "cell_type": "markdown",
   "metadata": {},
   "source": [
    "所以这几个数据集不会直接冲突。\n",
    "\n",
    "这部分不加到论文里面，但是答辩如果问起来可以看一下。"
   ]
  },
  {
   "cell_type": "code",
   "execution_count": null,
   "metadata": {},
   "outputs": [],
   "source": []
  }
 ],
 "metadata": {
  "kernelspec": {
   "display_name": "Python 3",
   "language": "python",
   "name": "python3"
  },
  "language_info": {
   "codemirror_mode": {
    "name": "ipython",
    "version": 3
   },
   "file_extension": ".py",
   "mimetype": "text/x-python",
   "name": "python",
   "nbconvert_exporter": "python",
   "pygments_lexer": "ipython3",
   "version": "3.6.4"
  }
 },
 "nbformat": 4,
 "nbformat_minor": 2
}
